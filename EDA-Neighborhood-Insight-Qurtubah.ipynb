{
 "cells": [
  {
   "cell_type": "markdown",
   "id": "2c1a7beb",
   "metadata": {},
   "source": [
    "## 1) Loading and checking the dataset"
   ]
  },
  {
   "cell_type": "code",
   "execution_count": 90,
   "id": "a3e4ffed",
   "metadata": {},
   "outputs": [],
   "source": [
    "import pandas as pd "
   ]
  },
  {
   "cell_type": "code",
   "execution_count": 140,
   "id": "f3b5fd38",
   "metadata": {},
   "outputs": [],
   "source": [
    "places= pd.read_csv('/Users/workplace/Documents/GitHub/Neighborhood-Insight-Qurtubah/data/places.csv')"
   ]
  },
  {
   "cell_type": "code",
   "execution_count": 141,
   "id": "719772f9",
   "metadata": {},
   "outputs": [
    {
     "data": {
      "text/plain": [
       "(2145, 8)"
      ]
     },
     "execution_count": 141,
     "metadata": {},
     "output_type": "execute_result"
    }
   ],
   "source": [
    "places.shape"
   ]
  },
  {
   "cell_type": "code",
   "execution_count": 142,
   "id": "e689062a",
   "metadata": {
    "scrolled": true
   },
   "outputs": [
    {
     "name": "stdout",
     "output_type": "stream",
     "text": [
      "<class 'pandas.core.frame.DataFrame'>\n",
      "RangeIndex: 2145 entries, 0 to 2144\n",
      "Data columns (total 8 columns):\n",
      " #   Column        Non-Null Count  Dtype  \n",
      "---  ------        --------------  -----  \n",
      " 0   title         2145 non-null   object \n",
      " 1   category      2113 non-null   object \n",
      " 2   dist          1871 non-null   object \n",
      " 3   lat           2086 non-null   float64\n",
      " 4   lng           2086 non-null   float64\n",
      " 5   rating        1929 non-null   float64\n",
      " 6   reviewsCount  2085 non-null   float64\n",
      " 7   price         288 non-null    object \n",
      "dtypes: float64(4), object(4)\n",
      "memory usage: 134.2+ KB\n"
     ]
    }
   ],
   "source": [
    "places.info()"
   ]
  },
  {
   "cell_type": "code",
   "execution_count": 143,
   "id": "0e2c8931",
   "metadata": {
    "scrolled": true
   },
   "outputs": [
    {
     "data": {
      "text/html": [
       "<div>\n",
       "<style scoped>\n",
       "    .dataframe tbody tr th:only-of-type {\n",
       "        vertical-align: middle;\n",
       "    }\n",
       "\n",
       "    .dataframe tbody tr th {\n",
       "        vertical-align: top;\n",
       "    }\n",
       "\n",
       "    .dataframe thead th {\n",
       "        text-align: right;\n",
       "    }\n",
       "</style>\n",
       "<table border=\"1\" class=\"dataframe\">\n",
       "  <thead>\n",
       "    <tr style=\"text-align: right;\">\n",
       "      <th></th>\n",
       "      <th>title</th>\n",
       "      <th>category</th>\n",
       "      <th>dist</th>\n",
       "      <th>lat</th>\n",
       "      <th>lng</th>\n",
       "      <th>rating</th>\n",
       "      <th>reviewsCount</th>\n",
       "      <th>price</th>\n",
       "    </tr>\n",
       "  </thead>\n",
       "  <tbody>\n",
       "    <tr>\n",
       "      <th>0</th>\n",
       "      <td>أسواق ثمرات الجنتين</td>\n",
       "      <td>Supermarket</td>\n",
       "      <td>RQ85+RX Al Munsiyah, Riyadh Saudi Arabia</td>\n",
       "      <td>24.817080</td>\n",
       "      <td>46.759923</td>\n",
       "      <td>3.6</td>\n",
       "      <td>197.0</td>\n",
       "      <td>NaN</td>\n",
       "    </tr>\n",
       "    <tr>\n",
       "      <th>1</th>\n",
       "      <td>Meed Store</td>\n",
       "      <td>Convenience store</td>\n",
       "      <td>NaN</td>\n",
       "      <td>24.788248</td>\n",
       "      <td>46.738404</td>\n",
       "      <td>3.9</td>\n",
       "      <td>81.0</td>\n",
       "      <td>NaN</td>\n",
       "    </tr>\n",
       "    <tr>\n",
       "      <th>2</th>\n",
       "      <td>Alsultan mart</td>\n",
       "      <td>Supermarket</td>\n",
       "      <td>RQ85+J7 Al Munsiyah, Riyadh Saudi Arabia</td>\n",
       "      <td>24.816546</td>\n",
       "      <td>46.758185</td>\n",
       "      <td>4.0</td>\n",
       "      <td>253.0</td>\n",
       "      <td>NaN</td>\n",
       "    </tr>\n",
       "    <tr>\n",
       "      <th>3</th>\n",
       "      <td>Nespresso</td>\n",
       "      <td>Coffee vending machine</td>\n",
       "      <td>NaN</td>\n",
       "      <td>24.757320</td>\n",
       "      <td>46.630134</td>\n",
       "      <td>4.2</td>\n",
       "      <td>351.0</td>\n",
       "      <td>NaN</td>\n",
       "    </tr>\n",
       "    <tr>\n",
       "      <th>4</th>\n",
       "      <td>Wadi square</td>\n",
       "      <td>Shopping mall</td>\n",
       "      <td>QPQ2+RG Al Wadi, Riyadh Saudi Arabia</td>\n",
       "      <td>24.789562</td>\n",
       "      <td>46.701330</td>\n",
       "      <td>4.5</td>\n",
       "      <td>4.0</td>\n",
       "      <td>NaN</td>\n",
       "    </tr>\n",
       "  </tbody>\n",
       "</table>\n",
       "</div>"
      ],
      "text/plain": [
       "                 title                category  \\\n",
       "0  أسواق ثمرات الجنتين             Supermarket   \n",
       "1           Meed Store       Convenience store   \n",
       "2        Alsultan mart             Supermarket   \n",
       "3            Nespresso  Coffee vending machine   \n",
       "4          Wadi square           Shopping mall   \n",
       "\n",
       "                                       dist        lat        lng  rating  \\\n",
       "0  RQ85+RX Al Munsiyah, Riyadh Saudi Arabia  24.817080  46.759923     3.6   \n",
       "1                                       NaN  24.788248  46.738404     3.9   \n",
       "2  RQ85+J7 Al Munsiyah, Riyadh Saudi Arabia  24.816546  46.758185     4.0   \n",
       "3                                       NaN  24.757320  46.630134     4.2   \n",
       "4      QPQ2+RG Al Wadi, Riyadh Saudi Arabia  24.789562  46.701330     4.5   \n",
       "\n",
       "   reviewsCount price  \n",
       "0         197.0   NaN  \n",
       "1          81.0   NaN  \n",
       "2         253.0   NaN  \n",
       "3         351.0   NaN  \n",
       "4           4.0   NaN  "
      ]
     },
     "execution_count": 143,
     "metadata": {},
     "output_type": "execute_result"
    }
   ],
   "source": [
    "places.head()"
   ]
  },
  {
   "cell_type": "markdown",
   "id": "68098613",
   "metadata": {},
   "source": [
    "## 2) Data Cleaning "
   ]
  },
  {
   "cell_type": "markdown",
   "id": "31fa0055",
   "metadata": {},
   "source": [
    "check for duplicates "
   ]
  },
  {
   "cell_type": "code",
   "execution_count": 144,
   "id": "fc3fc72b",
   "metadata": {},
   "outputs": [
    {
     "data": {
      "text/plain": [
       "0       False\n",
       "1       False\n",
       "2       False\n",
       "3       False\n",
       "4       False\n",
       "        ...  \n",
       "2140     True\n",
       "2141     True\n",
       "2142     True\n",
       "2143     True\n",
       "2144     True\n",
       "Length: 2145, dtype: bool"
      ]
     },
     "execution_count": 144,
     "metadata": {},
     "output_type": "execute_result"
    }
   ],
   "source": [
    "places.duplicated()"
   ]
  },
  {
   "cell_type": "code",
   "execution_count": 145,
   "id": "06ed13a3",
   "metadata": {},
   "outputs": [],
   "source": [
    "places.drop_duplicates(inplace=True)"
   ]
  },
  {
   "cell_type": "code",
   "execution_count": 146,
   "id": "8079131f",
   "metadata": {},
   "outputs": [
    {
     "data": {
      "text/plain": [
       "(2137, 8)"
      ]
     },
     "execution_count": 146,
     "metadata": {},
     "output_type": "execute_result"
    }
   ],
   "source": [
    "places.shape"
   ]
  },
  {
   "cell_type": "markdown",
   "id": "e69adb61",
   "metadata": {},
   "source": [
    "Check for nulls "
   ]
  },
  {
   "cell_type": "code",
   "execution_count": 147,
   "id": "723e682b",
   "metadata": {},
   "outputs": [
    {
     "data": {
      "text/plain": [
       "title              0\n",
       "category          32\n",
       "dist             274\n",
       "lat               59\n",
       "lng               59\n",
       "rating           208\n",
       "reviewsCount      52\n",
       "price           1849\n",
       "dtype: int64"
      ]
     },
     "execution_count": 147,
     "metadata": {},
     "output_type": "execute_result"
    }
   ],
   "source": [
    "places.isna().sum()"
   ]
  },
  {
   "cell_type": "markdown",
   "id": "eaefef9d",
   "metadata": {},
   "source": [
    "- for rating and reviewscount I'll leave nulls, becuase these places hasn't been reviewd yet.\n",
    "- for long and lat I'll replace the missing values with the lat and lng of Qurtubah.\n",
    "- for the nulls in dist I'll calculate the distance in kms using lat and lng.  \n",
    "- I'll leave the nulls in price column as they are.\n"
   ]
  },
  {
   "cell_type": "code",
   "execution_count": 148,
   "id": "f059e55e",
   "metadata": {},
   "outputs": [],
   "source": [
    "neighborhood_latitude=24.8166\n",
    "neighborhood_longitude=46.7320"
   ]
  },
  {
   "cell_type": "code",
   "execution_count": 149,
   "id": "2613c254",
   "metadata": {},
   "outputs": [],
   "source": [
    "#method to calculate distance.\n",
    "# \n",
    "import math\n",
    "\n",
    "def distance(origin, destination):\n",
    "    lat1, lon1 = origin\n",
    "    lat2, lon2 = destination\n",
    "    radius = 6371 # km\n",
    "\n",
    "    dlat = math.radians(lat2-lat1)\n",
    "    dlon = math.radians(lon2-lon1)\n",
    "    a = math.sin(dlat/2) * math.sin(dlat/2) + math.cos(math.radians(lat1)) \\\n",
    "        * math.cos(math.radians(lat2)) * math.sin(dlon/2) * math.sin(dlon/2)\n",
    "    c = 2 * math.atan2(math.sqrt(a), math.sqrt(1-a))\n",
    "    d = radius * c\n",
    "\n",
    "    return d"
   ]
  },
  {
   "cell_type": "code",
   "execution_count": 150,
   "id": "0b88fb85",
   "metadata": {},
   "outputs": [],
   "source": [
    "places['distance'] = places.apply(lambda row: distance((float(neighborhood_latitude),float(neighborhood_longitude)),(row['lat'],row['lng'])), axis=1)"
   ]
  },
  {
   "cell_type": "code",
   "execution_count": 151,
   "id": "f1e6fbb3",
   "metadata": {},
   "outputs": [
    {
     "data": {
      "text/html": [
       "<div>\n",
       "<style scoped>\n",
       "    .dataframe tbody tr th:only-of-type {\n",
       "        vertical-align: middle;\n",
       "    }\n",
       "\n",
       "    .dataframe tbody tr th {\n",
       "        vertical-align: top;\n",
       "    }\n",
       "\n",
       "    .dataframe thead th {\n",
       "        text-align: right;\n",
       "    }\n",
       "</style>\n",
       "<table border=\"1\" class=\"dataframe\">\n",
       "  <thead>\n",
       "    <tr style=\"text-align: right;\">\n",
       "      <th></th>\n",
       "      <th>title</th>\n",
       "      <th>category</th>\n",
       "      <th>dist</th>\n",
       "      <th>lat</th>\n",
       "      <th>lng</th>\n",
       "      <th>rating</th>\n",
       "      <th>reviewsCount</th>\n",
       "      <th>price</th>\n",
       "      <th>distance</th>\n",
       "    </tr>\n",
       "  </thead>\n",
       "  <tbody>\n",
       "    <tr>\n",
       "      <th>0</th>\n",
       "      <td>أسواق ثمرات الجنتين</td>\n",
       "      <td>Supermarket</td>\n",
       "      <td>RQ85+RX Al Munsiyah, Riyadh Saudi Arabia</td>\n",
       "      <td>24.817080</td>\n",
       "      <td>46.759923</td>\n",
       "      <td>3.6</td>\n",
       "      <td>197.0</td>\n",
       "      <td>NaN</td>\n",
       "      <td>2.818646</td>\n",
       "    </tr>\n",
       "    <tr>\n",
       "      <th>1</th>\n",
       "      <td>Meed Store</td>\n",
       "      <td>Convenience store</td>\n",
       "      <td>NaN</td>\n",
       "      <td>24.788248</td>\n",
       "      <td>46.738404</td>\n",
       "      <td>3.9</td>\n",
       "      <td>81.0</td>\n",
       "      <td>NaN</td>\n",
       "      <td>3.218145</td>\n",
       "    </tr>\n",
       "    <tr>\n",
       "      <th>2</th>\n",
       "      <td>Alsultan mart</td>\n",
       "      <td>Supermarket</td>\n",
       "      <td>RQ85+J7 Al Munsiyah, Riyadh Saudi Arabia</td>\n",
       "      <td>24.816546</td>\n",
       "      <td>46.758185</td>\n",
       "      <td>4.0</td>\n",
       "      <td>253.0</td>\n",
       "      <td>NaN</td>\n",
       "      <td>2.642804</td>\n",
       "    </tr>\n",
       "    <tr>\n",
       "      <th>3</th>\n",
       "      <td>Nespresso</td>\n",
       "      <td>Coffee vending machine</td>\n",
       "      <td>NaN</td>\n",
       "      <td>24.757320</td>\n",
       "      <td>46.630134</td>\n",
       "      <td>4.2</td>\n",
       "      <td>351.0</td>\n",
       "      <td>NaN</td>\n",
       "      <td>12.214699</td>\n",
       "    </tr>\n",
       "    <tr>\n",
       "      <th>4</th>\n",
       "      <td>Wadi square</td>\n",
       "      <td>Shopping mall</td>\n",
       "      <td>QPQ2+RG Al Wadi, Riyadh Saudi Arabia</td>\n",
       "      <td>24.789562</td>\n",
       "      <td>46.701330</td>\n",
       "      <td>4.5</td>\n",
       "      <td>4.0</td>\n",
       "      <td>NaN</td>\n",
       "      <td>4.315402</td>\n",
       "    </tr>\n",
       "  </tbody>\n",
       "</table>\n",
       "</div>"
      ],
      "text/plain": [
       "                 title                category  \\\n",
       "0  أسواق ثمرات الجنتين             Supermarket   \n",
       "1           Meed Store       Convenience store   \n",
       "2        Alsultan mart             Supermarket   \n",
       "3            Nespresso  Coffee vending machine   \n",
       "4          Wadi square           Shopping mall   \n",
       "\n",
       "                                       dist        lat        lng  rating  \\\n",
       "0  RQ85+RX Al Munsiyah, Riyadh Saudi Arabia  24.817080  46.759923     3.6   \n",
       "1                                       NaN  24.788248  46.738404     3.9   \n",
       "2  RQ85+J7 Al Munsiyah, Riyadh Saudi Arabia  24.816546  46.758185     4.0   \n",
       "3                                       NaN  24.757320  46.630134     4.2   \n",
       "4      QPQ2+RG Al Wadi, Riyadh Saudi Arabia  24.789562  46.701330     4.5   \n",
       "\n",
       "   reviewsCount price   distance  \n",
       "0         197.0   NaN   2.818646  \n",
       "1          81.0   NaN   3.218145  \n",
       "2         253.0   NaN   2.642804  \n",
       "3         351.0   NaN  12.214699  \n",
       "4           4.0   NaN   4.315402  "
      ]
     },
     "execution_count": 151,
     "metadata": {},
     "output_type": "execute_result"
    }
   ],
   "source": [
    "places.head()"
   ]
  },
  {
   "cell_type": "code",
   "execution_count": 173,
   "id": "57dac822",
   "metadata": {},
   "outputs": [
    {
     "data": {
      "text/html": [
       "<div>\n",
       "<style scoped>\n",
       "    .dataframe tbody tr th:only-of-type {\n",
       "        vertical-align: middle;\n",
       "    }\n",
       "\n",
       "    .dataframe tbody tr th {\n",
       "        vertical-align: top;\n",
       "    }\n",
       "\n",
       "    .dataframe thead th {\n",
       "        text-align: right;\n",
       "    }\n",
       "</style>\n",
       "<table border=\"1\" class=\"dataframe\">\n",
       "  <thead>\n",
       "    <tr style=\"text-align: right;\">\n",
       "      <th></th>\n",
       "      <th>title</th>\n",
       "      <th>category</th>\n",
       "      <th>dist</th>\n",
       "      <th>lat</th>\n",
       "      <th>lng</th>\n",
       "      <th>rating</th>\n",
       "      <th>reviewsCount</th>\n",
       "      <th>price</th>\n",
       "      <th>distance</th>\n",
       "    </tr>\n",
       "  </thead>\n",
       "  <tbody>\n",
       "    <tr>\n",
       "      <th>8</th>\n",
       "      <td>Abdullah Alothaim Markets</td>\n",
       "      <td>Supermarket</td>\n",
       "      <td>NaN</td>\n",
       "      <td>24.821437</td>\n",
       "      <td>46.742188</td>\n",
       "      <td>3.8</td>\n",
       "      <td>215.0</td>\n",
       "      <td>NaN</td>\n",
       "      <td>1.160378</td>\n",
       "    </tr>\n",
       "    <tr>\n",
       "      <th>15</th>\n",
       "      <td>مانويل ماركت</td>\n",
       "      <td>Supermarket</td>\n",
       "      <td>NaN</td>\n",
       "      <td>24.829196</td>\n",
       "      <td>46.726967</td>\n",
       "      <td>5.0</td>\n",
       "      <td>2.0</td>\n",
       "      <td>NaN</td>\n",
       "      <td>1.489884</td>\n",
       "    </tr>\n",
       "    <tr>\n",
       "      <th>26</th>\n",
       "      <td>Panda Super market Qurtubah</td>\n",
       "      <td>Supermarket</td>\n",
       "      <td>NaN</td>\n",
       "      <td>24.813905</td>\n",
       "      <td>46.724659</td>\n",
       "      <td>1.0</td>\n",
       "      <td>1.0</td>\n",
       "      <td>NaN</td>\n",
       "      <td>0.799264</td>\n",
       "    </tr>\n",
       "    <tr>\n",
       "      <th>39</th>\n",
       "      <td>BAJA</td>\n",
       "      <td>Supermarket</td>\n",
       "      <td>NaN</td>\n",
       "      <td>24.811075</td>\n",
       "      <td>46.734269</td>\n",
       "      <td>4.7</td>\n",
       "      <td>7.0</td>\n",
       "      <td>NaN</td>\n",
       "      <td>0.655678</td>\n",
       "    </tr>\n",
       "    <tr>\n",
       "      <th>77</th>\n",
       "      <td>looz &amp; Jooz</td>\n",
       "      <td>Nut store</td>\n",
       "      <td>NaN</td>\n",
       "      <td>24.814830</td>\n",
       "      <td>46.726020</td>\n",
       "      <td>4.1</td>\n",
       "      <td>42.0</td>\n",
       "      <td>NaN</td>\n",
       "      <td>0.634871</td>\n",
       "    </tr>\n",
       "    <tr>\n",
       "      <th>...</th>\n",
       "      <td>...</td>\n",
       "      <td>...</td>\n",
       "      <td>...</td>\n",
       "      <td>...</td>\n",
       "      <td>...</td>\n",
       "      <td>...</td>\n",
       "      <td>...</td>\n",
       "      <td>...</td>\n",
       "      <td>...</td>\n",
       "    </tr>\n",
       "    <tr>\n",
       "      <th>1853</th>\n",
       "      <td>Mini Mart</td>\n",
       "      <td>Grocery store</td>\n",
       "      <td>NaN</td>\n",
       "      <td>24.808720</td>\n",
       "      <td>46.732702</td>\n",
       "      <td>NaN</td>\n",
       "      <td>0.0</td>\n",
       "      <td>NaN</td>\n",
       "      <td>0.879101</td>\n",
       "    </tr>\n",
       "    <tr>\n",
       "      <th>1854</th>\n",
       "      <td>طاحون حسين</td>\n",
       "      <td>Grocery store</td>\n",
       "      <td>NaN</td>\n",
       "      <td>24.818429</td>\n",
       "      <td>46.752263</td>\n",
       "      <td>3.9</td>\n",
       "      <td>10.0</td>\n",
       "      <td>NaN</td>\n",
       "      <td>2.055147</td>\n",
       "    </tr>\n",
       "    <tr>\n",
       "      <th>1857</th>\n",
       "      <td>comilla super market</td>\n",
       "      <td>Grocery store</td>\n",
       "      <td>NaN</td>\n",
       "      <td>24.806166</td>\n",
       "      <td>46.720211</td>\n",
       "      <td>5.0</td>\n",
       "      <td>1.0</td>\n",
       "      <td>NaN</td>\n",
       "      <td>1.661825</td>\n",
       "    </tr>\n",
       "    <tr>\n",
       "      <th>1859</th>\n",
       "      <td>Thimar Alqassim Super Market</td>\n",
       "      <td>Grocery store</td>\n",
       "      <td>NaN</td>\n",
       "      <td>24.814820</td>\n",
       "      <td>46.753083</td>\n",
       "      <td>3.7</td>\n",
       "      <td>21.0</td>\n",
       "      <td>NaN</td>\n",
       "      <td>2.137049</td>\n",
       "    </tr>\n",
       "    <tr>\n",
       "      <th>1975</th>\n",
       "      <td>Al-Dawaa</td>\n",
       "      <td>Pharmacy</td>\n",
       "      <td>NaN</td>\n",
       "      <td>24.814888</td>\n",
       "      <td>46.752867</td>\n",
       "      <td>4.1</td>\n",
       "      <td>14.0</td>\n",
       "      <td>NaN</td>\n",
       "      <td>2.114644</td>\n",
       "    </tr>\n",
       "  </tbody>\n",
       "</table>\n",
       "<p>67 rows × 9 columns</p>\n",
       "</div>"
      ],
      "text/plain": [
       "                             title       category dist        lat        lng  \\\n",
       "8        Abdullah Alothaim Markets    Supermarket  NaN  24.821437  46.742188   \n",
       "15                    مانويل ماركت    Supermarket  NaN  24.829196  46.726967   \n",
       "26     Panda Super market Qurtubah    Supermarket  NaN  24.813905  46.724659   \n",
       "39                            BAJA    Supermarket  NaN  24.811075  46.734269   \n",
       "77                     looz & Jooz      Nut store  NaN  24.814830  46.726020   \n",
       "...                            ...            ...  ...        ...        ...   \n",
       "1853                     Mini Mart  Grocery store  NaN  24.808720  46.732702   \n",
       "1854                    طاحون حسين  Grocery store  NaN  24.818429  46.752263   \n",
       "1857          comilla super market  Grocery store  NaN  24.806166  46.720211   \n",
       "1859  Thimar Alqassim Super Market  Grocery store  NaN  24.814820  46.753083   \n",
       "1975                      Al-Dawaa       Pharmacy  NaN  24.814888  46.752867   \n",
       "\n",
       "      rating  reviewsCount price  distance  \n",
       "8        3.8         215.0   NaN  1.160378  \n",
       "15       5.0           2.0   NaN  1.489884  \n",
       "26       1.0           1.0   NaN  0.799264  \n",
       "39       4.7           7.0   NaN  0.655678  \n",
       "77       4.1          42.0   NaN  0.634871  \n",
       "...      ...           ...   ...       ...  \n",
       "1853     NaN           0.0   NaN  0.879101  \n",
       "1854     3.9          10.0   NaN  2.055147  \n",
       "1857     5.0           1.0   NaN  1.661825  \n",
       "1859     3.7          21.0   NaN  2.137049  \n",
       "1975     4.1          14.0   NaN  2.114644  \n",
       "\n",
       "[67 rows x 9 columns]"
      ]
     },
     "execution_count": 173,
     "metadata": {},
     "output_type": "execute_result"
    }
   ],
   "source": [
    "places[(places['dist'].isna()) & (places['distance']<=2.2)]"
   ]
  },
  {
   "cell_type": "code",
   "execution_count": 171,
   "id": "9f1b88f4",
   "metadata": {},
   "outputs": [
    {
     "data": {
      "text/plain": [
       "257           QMGF+WR An Nafal, Riyadh Saudi Arabia\n",
       "1196       RQ83+XM Al Munsiyah, Riyadh Saudi Arabia\n",
       "378           QQH3+VW Al Hamra, Riyadh Saudi Arabia\n",
       "1301    MPR7+4C As Sulimaniyah, Riyadh Saudi Arabia\n",
       "921           RQ72+46 Qurtubah, Riyadh Saudi Arabia\n",
       "1550          MMGR+QW Al Olaya, Riyadh Saudi Arabia\n",
       "2077                  طريق الشيخ حسن بن حسين بن علي\n",
       "1780          RP46+C5 Al Falah, Riyadh Saudi Arabia\n",
       "1210         QPWV+4P Ghirnatah, Riyadh Saudi Arabia\n",
       "2108                               Qurtubah, Riyadh\n",
       "Name: dist, dtype: object"
      ]
     },
     "execution_count": 171,
     "metadata": {},
     "output_type": "execute_result"
    }
   ],
   "source": [
    "#places['dist'].sample(10)"
   ]
  },
  {
   "cell_type": "code",
   "execution_count": 172,
   "id": "5bc568bb",
   "metadata": {},
   "outputs": [
    {
     "data": {
      "text/html": [
       "<div>\n",
       "<style scoped>\n",
       "    .dataframe tbody tr th:only-of-type {\n",
       "        vertical-align: middle;\n",
       "    }\n",
       "\n",
       "    .dataframe tbody tr th {\n",
       "        vertical-align: top;\n",
       "    }\n",
       "\n",
       "    .dataframe thead th {\n",
       "        text-align: right;\n",
       "    }\n",
       "</style>\n",
       "<table border=\"1\" class=\"dataframe\">\n",
       "  <thead>\n",
       "    <tr style=\"text-align: right;\">\n",
       "      <th></th>\n",
       "      <th>title</th>\n",
       "      <th>category</th>\n",
       "      <th>dist</th>\n",
       "      <th>lat</th>\n",
       "      <th>lng</th>\n",
       "      <th>rating</th>\n",
       "      <th>reviewsCount</th>\n",
       "      <th>price</th>\n",
       "      <th>distance</th>\n",
       "    </tr>\n",
       "  </thead>\n",
       "  <tbody>\n",
       "    <tr>\n",
       "      <th>8</th>\n",
       "      <td>Abdullah Alothaim Markets</td>\n",
       "      <td>Supermarket</td>\n",
       "      <td>NaN</td>\n",
       "      <td>24.821437</td>\n",
       "      <td>46.742188</td>\n",
       "      <td>3.8</td>\n",
       "      <td>215.0</td>\n",
       "      <td>NaN</td>\n",
       "      <td>1.160378</td>\n",
       "    </tr>\n",
       "    <tr>\n",
       "      <th>15</th>\n",
       "      <td>مانويل ماركت</td>\n",
       "      <td>Supermarket</td>\n",
       "      <td>NaN</td>\n",
       "      <td>24.829196</td>\n",
       "      <td>46.726967</td>\n",
       "      <td>5.0</td>\n",
       "      <td>2.0</td>\n",
       "      <td>NaN</td>\n",
       "      <td>1.489884</td>\n",
       "    </tr>\n",
       "    <tr>\n",
       "      <th>26</th>\n",
       "      <td>Panda Super market Qurtubah</td>\n",
       "      <td>Supermarket</td>\n",
       "      <td>NaN</td>\n",
       "      <td>24.813905</td>\n",
       "      <td>46.724659</td>\n",
       "      <td>1.0</td>\n",
       "      <td>1.0</td>\n",
       "      <td>NaN</td>\n",
       "      <td>0.799264</td>\n",
       "    </tr>\n",
       "    <tr>\n",
       "      <th>39</th>\n",
       "      <td>BAJA</td>\n",
       "      <td>Supermarket</td>\n",
       "      <td>NaN</td>\n",
       "      <td>24.811075</td>\n",
       "      <td>46.734269</td>\n",
       "      <td>4.7</td>\n",
       "      <td>7.0</td>\n",
       "      <td>NaN</td>\n",
       "      <td>0.655678</td>\n",
       "    </tr>\n",
       "    <tr>\n",
       "      <th>77</th>\n",
       "      <td>looz &amp; Jooz</td>\n",
       "      <td>Nut store</td>\n",
       "      <td>NaN</td>\n",
       "      <td>24.814830</td>\n",
       "      <td>46.726020</td>\n",
       "      <td>4.1</td>\n",
       "      <td>42.0</td>\n",
       "      <td>NaN</td>\n",
       "      <td>0.634871</td>\n",
       "    </tr>\n",
       "    <tr>\n",
       "      <th>...</th>\n",
       "      <td>...</td>\n",
       "      <td>...</td>\n",
       "      <td>...</td>\n",
       "      <td>...</td>\n",
       "      <td>...</td>\n",
       "      <td>...</td>\n",
       "      <td>...</td>\n",
       "      <td>...</td>\n",
       "      <td>...</td>\n",
       "    </tr>\n",
       "    <tr>\n",
       "      <th>1853</th>\n",
       "      <td>Mini Mart</td>\n",
       "      <td>Grocery store</td>\n",
       "      <td>NaN</td>\n",
       "      <td>24.808720</td>\n",
       "      <td>46.732702</td>\n",
       "      <td>NaN</td>\n",
       "      <td>0.0</td>\n",
       "      <td>NaN</td>\n",
       "      <td>0.879101</td>\n",
       "    </tr>\n",
       "    <tr>\n",
       "      <th>1854</th>\n",
       "      <td>طاحون حسين</td>\n",
       "      <td>Grocery store</td>\n",
       "      <td>NaN</td>\n",
       "      <td>24.818429</td>\n",
       "      <td>46.752263</td>\n",
       "      <td>3.9</td>\n",
       "      <td>10.0</td>\n",
       "      <td>NaN</td>\n",
       "      <td>2.055147</td>\n",
       "    </tr>\n",
       "    <tr>\n",
       "      <th>1857</th>\n",
       "      <td>comilla super market</td>\n",
       "      <td>Grocery store</td>\n",
       "      <td>NaN</td>\n",
       "      <td>24.806166</td>\n",
       "      <td>46.720211</td>\n",
       "      <td>5.0</td>\n",
       "      <td>1.0</td>\n",
       "      <td>NaN</td>\n",
       "      <td>1.661825</td>\n",
       "    </tr>\n",
       "    <tr>\n",
       "      <th>1859</th>\n",
       "      <td>Thimar Alqassim Super Market</td>\n",
       "      <td>Grocery store</td>\n",
       "      <td>NaN</td>\n",
       "      <td>24.814820</td>\n",
       "      <td>46.753083</td>\n",
       "      <td>3.7</td>\n",
       "      <td>21.0</td>\n",
       "      <td>NaN</td>\n",
       "      <td>2.137049</td>\n",
       "    </tr>\n",
       "    <tr>\n",
       "      <th>1975</th>\n",
       "      <td>Al-Dawaa</td>\n",
       "      <td>Pharmacy</td>\n",
       "      <td>NaN</td>\n",
       "      <td>24.814888</td>\n",
       "      <td>46.752867</td>\n",
       "      <td>4.1</td>\n",
       "      <td>14.0</td>\n",
       "      <td>NaN</td>\n",
       "      <td>2.114644</td>\n",
       "    </tr>\n",
       "  </tbody>\n",
       "</table>\n",
       "<p>67 rows × 9 columns</p>\n",
       "</div>"
      ],
      "text/plain": [
       "                             title       category dist        lat        lng  \\\n",
       "8        Abdullah Alothaim Markets    Supermarket  NaN  24.821437  46.742188   \n",
       "15                    مانويل ماركت    Supermarket  NaN  24.829196  46.726967   \n",
       "26     Panda Super market Qurtubah    Supermarket  NaN  24.813905  46.724659   \n",
       "39                            BAJA    Supermarket  NaN  24.811075  46.734269   \n",
       "77                     looz & Jooz      Nut store  NaN  24.814830  46.726020   \n",
       "...                            ...            ...  ...        ...        ...   \n",
       "1853                     Mini Mart  Grocery store  NaN  24.808720  46.732702   \n",
       "1854                    طاحون حسين  Grocery store  NaN  24.818429  46.752263   \n",
       "1857          comilla super market  Grocery store  NaN  24.806166  46.720211   \n",
       "1859  Thimar Alqassim Super Market  Grocery store  NaN  24.814820  46.753083   \n",
       "1975                      Al-Dawaa       Pharmacy  NaN  24.814888  46.752867   \n",
       "\n",
       "      rating  reviewsCount price  distance  \n",
       "8        3.8         215.0   NaN  1.160378  \n",
       "15       5.0           2.0   NaN  1.489884  \n",
       "26       1.0           1.0   NaN  0.799264  \n",
       "39       4.7           7.0   NaN  0.655678  \n",
       "77       4.1          42.0   NaN  0.634871  \n",
       "...      ...           ...   ...       ...  \n",
       "1853     NaN           0.0   NaN  0.879101  \n",
       "1854     3.9          10.0   NaN  2.055147  \n",
       "1857     5.0           1.0   NaN  1.661825  \n",
       "1859     3.7          21.0   NaN  2.137049  \n",
       "1975     4.1          14.0   NaN  2.114644  \n",
       "\n",
       "[67 rows x 9 columns]"
      ]
     },
     "execution_count": 172,
     "metadata": {},
     "output_type": "execute_result"
    }
   ],
   "source": [
    "#places[(places['dist'].isna()) & (places['distance']<=2.2)]"
   ]
  },
  {
   "cell_type": "markdown",
   "id": "dd7f1b90",
   "metadata": {},
   "source": [
    "## Project Quiestions "
   ]
  },
  {
   "cell_type": "markdown",
   "id": "b3be1d40",
   "metadata": {},
   "source": [
    "### A) How diverse are the destinations in Qurtubah?"
   ]
  },
  {
   "cell_type": "code",
   "execution_count": null,
   "id": "2e69721a",
   "metadata": {},
   "outputs": [],
   "source": []
  },
  {
   "cell_type": "markdown",
   "id": "a02775b5",
   "metadata": {},
   "source": [
    "### B)  What are the best destinations?"
   ]
  },
  {
   "cell_type": "code",
   "execution_count": null,
   "id": "701567b1",
   "metadata": {},
   "outputs": [],
   "source": []
  },
  {
   "cell_type": "markdown",
   "id": "7f747719",
   "metadata": {},
   "source": [
    "### C) How family friendly is the neighborhood ?"
   ]
  },
  {
   "cell_type": "code",
   "execution_count": null,
   "id": "7261b9db",
   "metadata": {},
   "outputs": [],
   "source": []
  },
  {
   "cell_type": "markdown",
   "id": "9670c0a2",
   "metadata": {},
   "source": [
    "### D) How is rent affected in comparsion to other neighborhoods?"
   ]
  },
  {
   "cell_type": "code",
   "execution_count": null,
   "id": "a9f1707f",
   "metadata": {},
   "outputs": [],
   "source": []
  },
  {
   "cell_type": "markdown",
   "id": "a3d98693",
   "metadata": {},
   "source": [
    "### E) How walkable is Qurtubah?"
   ]
  },
  {
   "cell_type": "code",
   "execution_count": null,
   "id": "779e7b83",
   "metadata": {},
   "outputs": [],
   "source": []
  }
 ],
 "metadata": {
  "kernelspec": {
   "display_name": "Python 3",
   "language": "python",
   "name": "python3"
  },
  "language_info": {
   "codemirror_mode": {
    "name": "ipython",
    "version": 3
   },
   "file_extension": ".py",
   "mimetype": "text/x-python",
   "name": "python",
   "nbconvert_exporter": "python",
   "pygments_lexer": "ipython3",
   "version": "3.8.8"
  }
 },
 "nbformat": 4,
 "nbformat_minor": 5
}
